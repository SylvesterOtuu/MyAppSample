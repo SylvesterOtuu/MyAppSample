{
 "cells": [
  {
   "cell_type": "code",
   "execution_count": 1,
   "id": "3a0a7018",
   "metadata": {
    "_cell_guid": "b1076dfc-b9ad-4769-8c92-a6c4dae69d19",
    "_uuid": "8f2839f25d086af736a60e9eeb907d3b93b6e0e5",
    "execution": {
     "iopub.execute_input": "2022-08-27T17:10:54.627082Z",
     "iopub.status.busy": "2022-08-27T17:10:54.626641Z",
     "iopub.status.idle": "2022-08-27T17:10:56.055619Z",
     "shell.execute_reply": "2022-08-27T17:10:56.054643Z"
    },
    "papermill": {
     "duration": 1.441417,
     "end_time": "2022-08-27T17:10:56.058295",
     "exception": false,
     "start_time": "2022-08-27T17:10:54.616878",
     "status": "completed"
    },
    "tags": []
   },
   "outputs": [],
   "source": [
    "# Import libraries\n",
    "import pandas as pd\n",
    "import numpy as np\n",
    "import matplotlib.pyplot as plt\n",
    "import plotly.express as px"
   ]
  },
  {
   "cell_type": "code",
   "execution_count": 2,
   "id": "f3686b1b",
   "metadata": {
    "execution": {
     "iopub.execute_input": "2022-08-27T17:10:56.074080Z",
     "iopub.status.busy": "2022-08-27T17:10:56.073409Z",
     "iopub.status.idle": "2022-08-27T17:10:56.111020Z",
     "shell.execute_reply": "2022-08-27T17:10:56.110193Z"
    },
    "papermill": {
     "duration": 0.048125,
     "end_time": "2022-08-27T17:10:56.113396",
     "exception": false,
     "start_time": "2022-08-27T17:10:56.065271",
     "status": "completed"
    },
    "tags": []
   },
   "outputs": [],
   "source": [
    "# Read the chennai dataset\n",
    "df1 = pd.read_csv(\"../input/housing-prices-in-india-chennai/Housing-Prices-in-Chennai.csv\")\n"
   ]
  },
  {
   "cell_type": "code",
   "execution_count": 3,
   "id": "47fe7d97",
   "metadata": {
    "execution": {
     "iopub.execute_input": "2022-08-27T17:10:56.128519Z",
     "iopub.status.busy": "2022-08-27T17:10:56.127802Z",
     "iopub.status.idle": "2022-08-27T17:10:56.135999Z",
     "shell.execute_reply": "2022-08-27T17:10:56.135179Z"
    },
    "papermill": {
     "duration": 0.017914,
     "end_time": "2022-08-27T17:10:56.137886",
     "exception": false,
     "start_time": "2022-08-27T17:10:56.119972",
     "status": "completed"
    },
    "tags": []
   },
   "outputs": [
    {
     "data": {
      "text/plain": [
       "(5014, 40)"
      ]
     },
     "execution_count": 3,
     "metadata": {},
     "output_type": "execute_result"
    }
   ],
   "source": [
    "# Inspect the DataFrame using shape, info and head\n",
    "df1.shape"
   ]
  },
  {
   "cell_type": "code",
   "execution_count": 4,
   "id": "01fc4d29",
   "metadata": {
    "execution": {
     "iopub.execute_input": "2022-08-27T17:10:56.153162Z",
     "iopub.status.busy": "2022-08-27T17:10:56.152497Z",
     "iopub.status.idle": "2022-08-27T17:10:56.181940Z",
     "shell.execute_reply": "2022-08-27T17:10:56.179921Z"
    },
    "papermill": {
     "duration": 0.040123,
     "end_time": "2022-08-27T17:10:56.184744",
     "exception": false,
     "start_time": "2022-08-27T17:10:56.144621",
     "status": "completed"
    },
    "tags": []
   },
   "outputs": [
    {
     "name": "stdout",
     "output_type": "stream",
     "text": [
      "<class 'pandas.core.frame.DataFrame'>\n",
      "RangeIndex: 5014 entries, 0 to 5013\n",
      "Data columns (total 40 columns):\n",
      " #   Column               Non-Null Count  Dtype \n",
      "---  ------               --------------  ----- \n",
      " 0   Price                5014 non-null   int64 \n",
      " 1   Area                 5014 non-null   int64 \n",
      " 2   Location             5014 non-null   object\n",
      " 3   No. of Bedrooms      5014 non-null   int64 \n",
      " 4   Resale               5014 non-null   int64 \n",
      " 5   MaintenanceStaff     5014 non-null   int64 \n",
      " 6   Gymnasium            5014 non-null   int64 \n",
      " 7   SwimmingPool         5014 non-null   int64 \n",
      " 8   LandscapedGardens    5014 non-null   int64 \n",
      " 9   JoggingTrack         5014 non-null   int64 \n",
      " 10  RainWaterHarvesting  5014 non-null   int64 \n",
      " 11  IndoorGames          5014 non-null   int64 \n",
      " 12  ShoppingMall         5014 non-null   int64 \n",
      " 13  Intercom             5014 non-null   int64 \n",
      " 14  SportsFacility       5014 non-null   int64 \n",
      " 15  ATM                  5014 non-null   int64 \n",
      " 16  ClubHouse            5014 non-null   int64 \n",
      " 17  School               5014 non-null   int64 \n",
      " 18  24X7Security         5014 non-null   int64 \n",
      " 19  PowerBackup          5014 non-null   int64 \n",
      " 20  CarParking           5014 non-null   int64 \n",
      " 21  StaffQuarter         5014 non-null   int64 \n",
      " 22  Cafeteria            5014 non-null   int64 \n",
      " 23  MultipurposeRoom     5014 non-null   int64 \n",
      " 24  Hospital             5014 non-null   int64 \n",
      " 25  WashingMachine       5014 non-null   int64 \n",
      " 26  Gasconnection        5014 non-null   int64 \n",
      " 27  AC                   5014 non-null   int64 \n",
      " 28  Wifi                 5014 non-null   int64 \n",
      " 29  Children'splayarea   5014 non-null   int64 \n",
      " 30  LiftAvailable        5014 non-null   int64 \n",
      " 31  BED                  5014 non-null   int64 \n",
      " 32  VaastuCompliant      5014 non-null   int64 \n",
      " 33  Microwave            5014 non-null   int64 \n",
      " 34  GolfCourse           5014 non-null   int64 \n",
      " 35  TV                   5014 non-null   int64 \n",
      " 36  DiningTable          5014 non-null   int64 \n",
      " 37  Sofa                 5014 non-null   int64 \n",
      " 38  Wardrobe             5014 non-null   int64 \n",
      " 39  Refrigerator         5014 non-null   int64 \n",
      "dtypes: int64(39), object(1)\n",
      "memory usage: 1.5+ MB\n"
     ]
    }
   ],
   "source": [
    "df1.info()"
   ]
  },
  {
   "cell_type": "code",
   "execution_count": 5,
   "id": "7d87d710",
   "metadata": {
    "execution": {
     "iopub.execute_input": "2022-08-27T17:10:56.201226Z",
     "iopub.status.busy": "2022-08-27T17:10:56.200793Z",
     "iopub.status.idle": "2022-08-27T17:10:56.224677Z",
     "shell.execute_reply": "2022-08-27T17:10:56.223626Z"
    },
    "papermill": {
     "duration": 0.035176,
     "end_time": "2022-08-27T17:10:56.226923",
     "exception": false,
     "start_time": "2022-08-27T17:10:56.191747",
     "status": "completed"
    },
    "tags": []
   },
   "outputs": [
    {
     "data": {
      "text/html": [
       "<div>\n",
       "<style scoped>\n",
       "    .dataframe tbody tr th:only-of-type {\n",
       "        vertical-align: middle;\n",
       "    }\n",
       "\n",
       "    .dataframe tbody tr th {\n",
       "        vertical-align: top;\n",
       "    }\n",
       "\n",
       "    .dataframe thead th {\n",
       "        text-align: right;\n",
       "    }\n",
       "</style>\n",
       "<table border=\"1\" class=\"dataframe\">\n",
       "  <thead>\n",
       "    <tr style=\"text-align: right;\">\n",
       "      <th></th>\n",
       "      <th>Price</th>\n",
       "      <th>Area</th>\n",
       "      <th>Location</th>\n",
       "      <th>No. of Bedrooms</th>\n",
       "      <th>Resale</th>\n",
       "      <th>MaintenanceStaff</th>\n",
       "      <th>Gymnasium</th>\n",
       "      <th>SwimmingPool</th>\n",
       "      <th>LandscapedGardens</th>\n",
       "      <th>JoggingTrack</th>\n",
       "      <th>...</th>\n",
       "      <th>LiftAvailable</th>\n",
       "      <th>BED</th>\n",
       "      <th>VaastuCompliant</th>\n",
       "      <th>Microwave</th>\n",
       "      <th>GolfCourse</th>\n",
       "      <th>TV</th>\n",
       "      <th>DiningTable</th>\n",
       "      <th>Sofa</th>\n",
       "      <th>Wardrobe</th>\n",
       "      <th>Refrigerator</th>\n",
       "    </tr>\n",
       "  </thead>\n",
       "  <tbody>\n",
       "    <tr>\n",
       "      <th>0</th>\n",
       "      <td>5500000</td>\n",
       "      <td>1310</td>\n",
       "      <td>Perungalathur</td>\n",
       "      <td>3</td>\n",
       "      <td>0</td>\n",
       "      <td>0</td>\n",
       "      <td>0</td>\n",
       "      <td>0</td>\n",
       "      <td>0</td>\n",
       "      <td>0</td>\n",
       "      <td>...</td>\n",
       "      <td>0</td>\n",
       "      <td>0</td>\n",
       "      <td>0</td>\n",
       "      <td>0</td>\n",
       "      <td>0</td>\n",
       "      <td>0</td>\n",
       "      <td>0</td>\n",
       "      <td>0</td>\n",
       "      <td>0</td>\n",
       "      <td>0</td>\n",
       "    </tr>\n",
       "    <tr>\n",
       "      <th>1</th>\n",
       "      <td>5350000</td>\n",
       "      <td>1126</td>\n",
       "      <td>Madhavaram</td>\n",
       "      <td>2</td>\n",
       "      <td>0</td>\n",
       "      <td>0</td>\n",
       "      <td>1</td>\n",
       "      <td>1</td>\n",
       "      <td>1</td>\n",
       "      <td>0</td>\n",
       "      <td>...</td>\n",
       "      <td>1</td>\n",
       "      <td>0</td>\n",
       "      <td>0</td>\n",
       "      <td>0</td>\n",
       "      <td>0</td>\n",
       "      <td>0</td>\n",
       "      <td>0</td>\n",
       "      <td>0</td>\n",
       "      <td>0</td>\n",
       "      <td>0</td>\n",
       "    </tr>\n",
       "    <tr>\n",
       "      <th>2</th>\n",
       "      <td>8205000</td>\n",
       "      <td>1307</td>\n",
       "      <td>Karapakkam</td>\n",
       "      <td>3</td>\n",
       "      <td>0</td>\n",
       "      <td>0</td>\n",
       "      <td>1</td>\n",
       "      <td>1</td>\n",
       "      <td>1</td>\n",
       "      <td>1</td>\n",
       "      <td>...</td>\n",
       "      <td>0</td>\n",
       "      <td>0</td>\n",
       "      <td>0</td>\n",
       "      <td>0</td>\n",
       "      <td>0</td>\n",
       "      <td>0</td>\n",
       "      <td>0</td>\n",
       "      <td>0</td>\n",
       "      <td>0</td>\n",
       "      <td>0</td>\n",
       "    </tr>\n",
       "    <tr>\n",
       "      <th>3</th>\n",
       "      <td>23400000</td>\n",
       "      <td>3600</td>\n",
       "      <td>Thiruvidandhai</td>\n",
       "      <td>3</td>\n",
       "      <td>0</td>\n",
       "      <td>0</td>\n",
       "      <td>1</td>\n",
       "      <td>1</td>\n",
       "      <td>0</td>\n",
       "      <td>1</td>\n",
       "      <td>...</td>\n",
       "      <td>0</td>\n",
       "      <td>0</td>\n",
       "      <td>0</td>\n",
       "      <td>0</td>\n",
       "      <td>0</td>\n",
       "      <td>0</td>\n",
       "      <td>0</td>\n",
       "      <td>0</td>\n",
       "      <td>0</td>\n",
       "      <td>0</td>\n",
       "    </tr>\n",
       "    <tr>\n",
       "      <th>4</th>\n",
       "      <td>10100000</td>\n",
       "      <td>1700</td>\n",
       "      <td>Iyappanthangal</td>\n",
       "      <td>3</td>\n",
       "      <td>0</td>\n",
       "      <td>0</td>\n",
       "      <td>1</td>\n",
       "      <td>1</td>\n",
       "      <td>1</td>\n",
       "      <td>1</td>\n",
       "      <td>...</td>\n",
       "      <td>0</td>\n",
       "      <td>0</td>\n",
       "      <td>1</td>\n",
       "      <td>0</td>\n",
       "      <td>0</td>\n",
       "      <td>0</td>\n",
       "      <td>0</td>\n",
       "      <td>0</td>\n",
       "      <td>0</td>\n",
       "      <td>0</td>\n",
       "    </tr>\n",
       "  </tbody>\n",
       "</table>\n",
       "<p>5 rows × 40 columns</p>\n",
       "</div>"
      ],
      "text/plain": [
       "      Price  Area        Location  No. of Bedrooms  Resale  MaintenanceStaff  \\\n",
       "0   5500000  1310   Perungalathur                3       0                 0   \n",
       "1   5350000  1126      Madhavaram                2       0                 0   \n",
       "2   8205000  1307      Karapakkam                3       0                 0   \n",
       "3  23400000  3600  Thiruvidandhai                3       0                 0   \n",
       "4  10100000  1700  Iyappanthangal                3       0                 0   \n",
       "\n",
       "   Gymnasium  SwimmingPool  LandscapedGardens  JoggingTrack  ...  \\\n",
       "0          0             0                  0             0  ...   \n",
       "1          1             1                  1             0  ...   \n",
       "2          1             1                  1             1  ...   \n",
       "3          1             1                  0             1  ...   \n",
       "4          1             1                  1             1  ...   \n",
       "\n",
       "   LiftAvailable  BED  VaastuCompliant  Microwave  GolfCourse  TV  \\\n",
       "0              0    0                0          0           0   0   \n",
       "1              1    0                0          0           0   0   \n",
       "2              0    0                0          0           0   0   \n",
       "3              0    0                0          0           0   0   \n",
       "4              0    0                1          0           0   0   \n",
       "\n",
       "   DiningTable  Sofa  Wardrobe  Refrigerator  \n",
       "0            0     0         0             0  \n",
       "1            0     0         0             0  \n",
       "2            0     0         0             0  \n",
       "3            0     0         0             0  \n",
       "4            0     0         0             0  \n",
       "\n",
       "[5 rows x 40 columns]"
      ]
     },
     "execution_count": 5,
     "metadata": {},
     "output_type": "execute_result"
    }
   ],
   "source": [
    "# View the first five records\n",
    "df1.head()"
   ]
  },
  {
   "cell_type": "markdown",
   "id": "be89c3ac",
   "metadata": {
    "papermill": {
     "duration": 0.006916,
     "end_time": "2022-08-27T17:10:56.240996",
     "exception": false,
     "start_time": "2022-08-27T17:10:56.234080",
     "status": "completed"
    },
    "tags": []
   },
   "source": [
    "Since 0 and 1 tells us that the house comes with amenities or not and 9 in the dataset means not mentioned. So we will convert all the 9 to nan and then drop all the missing values."
   ]
  },
  {
   "cell_type": "code",
   "execution_count": 6,
   "id": "ad973767",
   "metadata": {
    "execution": {
     "iopub.execute_input": "2022-08-27T17:10:56.262399Z",
     "iopub.status.busy": "2022-08-27T17:10:56.260829Z",
     "iopub.status.idle": "2022-08-27T17:10:56.295548Z",
     "shell.execute_reply": "2022-08-27T17:10:56.294597Z"
    },
    "papermill": {
     "duration": 0.046516,
     "end_time": "2022-08-27T17:10:56.298147",
     "exception": false,
     "start_time": "2022-08-27T17:10:56.251631",
     "status": "completed"
    },
    "tags": []
   },
   "outputs": [],
   "source": [
    "#  Convert all the 9 to nan and then drop all the missing values.\n",
    "df1.replace(9, np.nan, inplace=True)\n",
    "df1.dropna(inplace=True)\n",
    "\n",
    "# The Prices are in Rupees, 1 dollar is equivalent to 80 india rupees, convert area to square meter from square feet\n",
    "df1[\"Price_usd\"] = (df1[\"Price\"] / 80).round(2)\n",
    "df1[\"Area_m2\"] = (df1[\"Area\"] / 10.76).round(2)\n",
    "\n",
    "# Drop \"Price\" and \"Area\" column\n",
    "df1.drop(columns=[\"Price\"], inplace=True)\n",
    "df1.drop(columns=[\"Area\"], inplace=True)"
   ]
  },
  {
   "cell_type": "code",
   "execution_count": 7,
   "id": "9391e06f",
   "metadata": {
    "execution": {
     "iopub.execute_input": "2022-08-27T17:10:56.314097Z",
     "iopub.status.busy": "2022-08-27T17:10:56.313701Z",
     "iopub.status.idle": "2022-08-27T17:10:56.320761Z",
     "shell.execute_reply": "2022-08-27T17:10:56.319650Z"
    },
    "papermill": {
     "duration": 0.017632,
     "end_time": "2022-08-27T17:10:56.322901",
     "exception": false,
     "start_time": "2022-08-27T17:10:56.305269",
     "status": "completed"
    },
    "tags": []
   },
   "outputs": [
    {
     "data": {
      "text/plain": [
       "(2233, 40)"
      ]
     },
     "execution_count": 7,
     "metadata": {},
     "output_type": "execute_result"
    }
   ],
   "source": [
    "df1.shape"
   ]
  },
  {
   "cell_type": "code",
   "execution_count": 8,
   "id": "cec1fda7",
   "metadata": {
    "execution": {
     "iopub.execute_input": "2022-08-27T17:10:56.341331Z",
     "iopub.status.busy": "2022-08-27T17:10:56.340172Z",
     "iopub.status.idle": "2022-08-27T17:10:56.370361Z",
     "shell.execute_reply": "2022-08-27T17:10:56.369203Z"
    },
    "papermill": {
     "duration": 0.042192,
     "end_time": "2022-08-27T17:10:56.372647",
     "exception": false,
     "start_time": "2022-08-27T17:10:56.330455",
     "status": "completed"
    },
    "tags": []
   },
   "outputs": [
    {
     "data": {
      "text/html": [
       "<div>\n",
       "<style scoped>\n",
       "    .dataframe tbody tr th:only-of-type {\n",
       "        vertical-align: middle;\n",
       "    }\n",
       "\n",
       "    .dataframe tbody tr th {\n",
       "        vertical-align: top;\n",
       "    }\n",
       "\n",
       "    .dataframe thead th {\n",
       "        text-align: right;\n",
       "    }\n",
       "</style>\n",
       "<table border=\"1\" class=\"dataframe\">\n",
       "  <thead>\n",
       "    <tr style=\"text-align: right;\">\n",
       "      <th></th>\n",
       "      <th>Location</th>\n",
       "      <th>No. of Bedrooms</th>\n",
       "      <th>Resale</th>\n",
       "      <th>MaintenanceStaff</th>\n",
       "      <th>Gymnasium</th>\n",
       "      <th>SwimmingPool</th>\n",
       "      <th>LandscapedGardens</th>\n",
       "      <th>JoggingTrack</th>\n",
       "      <th>RainWaterHarvesting</th>\n",
       "      <th>IndoorGames</th>\n",
       "      <th>...</th>\n",
       "      <th>VaastuCompliant</th>\n",
       "      <th>Microwave</th>\n",
       "      <th>GolfCourse</th>\n",
       "      <th>TV</th>\n",
       "      <th>DiningTable</th>\n",
       "      <th>Sofa</th>\n",
       "      <th>Wardrobe</th>\n",
       "      <th>Refrigerator</th>\n",
       "      <th>Price_usd</th>\n",
       "      <th>Area_m2</th>\n",
       "    </tr>\n",
       "  </thead>\n",
       "  <tbody>\n",
       "    <tr>\n",
       "      <th>0</th>\n",
       "      <td>Perungalathur</td>\n",
       "      <td>3</td>\n",
       "      <td>0</td>\n",
       "      <td>0.0</td>\n",
       "      <td>0.0</td>\n",
       "      <td>0.0</td>\n",
       "      <td>0.0</td>\n",
       "      <td>0.0</td>\n",
       "      <td>0.0</td>\n",
       "      <td>0.0</td>\n",
       "      <td>...</td>\n",
       "      <td>0.0</td>\n",
       "      <td>0.0</td>\n",
       "      <td>0.0</td>\n",
       "      <td>0.0</td>\n",
       "      <td>0.0</td>\n",
       "      <td>0.0</td>\n",
       "      <td>0.0</td>\n",
       "      <td>0.0</td>\n",
       "      <td>68750.0</td>\n",
       "      <td>121.75</td>\n",
       "    </tr>\n",
       "    <tr>\n",
       "      <th>1</th>\n",
       "      <td>Madhavaram</td>\n",
       "      <td>2</td>\n",
       "      <td>0</td>\n",
       "      <td>0.0</td>\n",
       "      <td>1.0</td>\n",
       "      <td>1.0</td>\n",
       "      <td>1.0</td>\n",
       "      <td>0.0</td>\n",
       "      <td>1.0</td>\n",
       "      <td>1.0</td>\n",
       "      <td>...</td>\n",
       "      <td>0.0</td>\n",
       "      <td>0.0</td>\n",
       "      <td>0.0</td>\n",
       "      <td>0.0</td>\n",
       "      <td>0.0</td>\n",
       "      <td>0.0</td>\n",
       "      <td>0.0</td>\n",
       "      <td>0.0</td>\n",
       "      <td>66875.0</td>\n",
       "      <td>104.65</td>\n",
       "    </tr>\n",
       "    <tr>\n",
       "      <th>2</th>\n",
       "      <td>Karapakkam</td>\n",
       "      <td>3</td>\n",
       "      <td>0</td>\n",
       "      <td>0.0</td>\n",
       "      <td>1.0</td>\n",
       "      <td>1.0</td>\n",
       "      <td>1.0</td>\n",
       "      <td>1.0</td>\n",
       "      <td>1.0</td>\n",
       "      <td>1.0</td>\n",
       "      <td>...</td>\n",
       "      <td>0.0</td>\n",
       "      <td>0.0</td>\n",
       "      <td>0.0</td>\n",
       "      <td>0.0</td>\n",
       "      <td>0.0</td>\n",
       "      <td>0.0</td>\n",
       "      <td>0.0</td>\n",
       "      <td>0.0</td>\n",
       "      <td>102562.5</td>\n",
       "      <td>121.47</td>\n",
       "    </tr>\n",
       "    <tr>\n",
       "      <th>3</th>\n",
       "      <td>Thiruvidandhai</td>\n",
       "      <td>3</td>\n",
       "      <td>0</td>\n",
       "      <td>0.0</td>\n",
       "      <td>1.0</td>\n",
       "      <td>1.0</td>\n",
       "      <td>0.0</td>\n",
       "      <td>1.0</td>\n",
       "      <td>0.0</td>\n",
       "      <td>0.0</td>\n",
       "      <td>...</td>\n",
       "      <td>0.0</td>\n",
       "      <td>0.0</td>\n",
       "      <td>0.0</td>\n",
       "      <td>0.0</td>\n",
       "      <td>0.0</td>\n",
       "      <td>0.0</td>\n",
       "      <td>0.0</td>\n",
       "      <td>0.0</td>\n",
       "      <td>292500.0</td>\n",
       "      <td>334.57</td>\n",
       "    </tr>\n",
       "    <tr>\n",
       "      <th>4</th>\n",
       "      <td>Iyappanthangal</td>\n",
       "      <td>3</td>\n",
       "      <td>0</td>\n",
       "      <td>0.0</td>\n",
       "      <td>1.0</td>\n",
       "      <td>1.0</td>\n",
       "      <td>1.0</td>\n",
       "      <td>1.0</td>\n",
       "      <td>0.0</td>\n",
       "      <td>0.0</td>\n",
       "      <td>...</td>\n",
       "      <td>1.0</td>\n",
       "      <td>0.0</td>\n",
       "      <td>0.0</td>\n",
       "      <td>0.0</td>\n",
       "      <td>0.0</td>\n",
       "      <td>0.0</td>\n",
       "      <td>0.0</td>\n",
       "      <td>0.0</td>\n",
       "      <td>126250.0</td>\n",
       "      <td>157.99</td>\n",
       "    </tr>\n",
       "  </tbody>\n",
       "</table>\n",
       "<p>5 rows × 40 columns</p>\n",
       "</div>"
      ],
      "text/plain": [
       "         Location  No. of Bedrooms  Resale  MaintenanceStaff  Gymnasium  \\\n",
       "0   Perungalathur                3       0               0.0        0.0   \n",
       "1      Madhavaram                2       0               0.0        1.0   \n",
       "2      Karapakkam                3       0               0.0        1.0   \n",
       "3  Thiruvidandhai                3       0               0.0        1.0   \n",
       "4  Iyappanthangal                3       0               0.0        1.0   \n",
       "\n",
       "   SwimmingPool  LandscapedGardens  JoggingTrack  RainWaterHarvesting  \\\n",
       "0           0.0                0.0           0.0                  0.0   \n",
       "1           1.0                1.0           0.0                  1.0   \n",
       "2           1.0                1.0           1.0                  1.0   \n",
       "3           1.0                0.0           1.0                  0.0   \n",
       "4           1.0                1.0           1.0                  0.0   \n",
       "\n",
       "   IndoorGames  ...  VaastuCompliant  Microwave  GolfCourse   TV  DiningTable  \\\n",
       "0          0.0  ...              0.0        0.0         0.0  0.0          0.0   \n",
       "1          1.0  ...              0.0        0.0         0.0  0.0          0.0   \n",
       "2          1.0  ...              0.0        0.0         0.0  0.0          0.0   \n",
       "3          0.0  ...              0.0        0.0         0.0  0.0          0.0   \n",
       "4          0.0  ...              1.0        0.0         0.0  0.0          0.0   \n",
       "\n",
       "   Sofa  Wardrobe  Refrigerator  Price_usd  Area_m2  \n",
       "0   0.0       0.0           0.0    68750.0   121.75  \n",
       "1   0.0       0.0           0.0    66875.0   104.65  \n",
       "2   0.0       0.0           0.0   102562.5   121.47  \n",
       "3   0.0       0.0           0.0   292500.0   334.57  \n",
       "4   0.0       0.0           0.0   126250.0   157.99  \n",
       "\n",
       "[5 rows x 40 columns]"
      ]
     },
     "execution_count": 8,
     "metadata": {},
     "output_type": "execute_result"
    }
   ],
   "source": [
    "# View the first five records\n",
    "df1.head()"
   ]
  },
  {
   "cell_type": "code",
   "execution_count": 9,
   "id": "4c378763",
   "metadata": {
    "execution": {
     "iopub.execute_input": "2022-08-27T17:10:56.389759Z",
     "iopub.status.busy": "2022-08-27T17:10:56.388983Z",
     "iopub.status.idle": "2022-08-27T17:10:56.397818Z",
     "shell.execute_reply": "2022-08-27T17:10:56.396943Z"
    },
    "papermill": {
     "duration": 0.019731,
     "end_time": "2022-08-27T17:10:56.399994",
     "exception": false,
     "start_time": "2022-08-27T17:10:56.380263",
     "status": "completed"
    },
    "tags": []
   },
   "outputs": [
    {
     "data": {
      "text/plain": [
       "Medavakkam          120\n",
       "Nanmangalam         104\n",
       "Karapakkam          100\n",
       "Avadi                93\n",
       "Sholinganallur       84\n",
       "Iyappanthangal       63\n",
       "Thoraipakkam OMR     60\n",
       "Selaiyur             55\n",
       "Navallur             52\n",
       "Mogappair            50\n",
       "Name: Location, dtype: int64"
      ]
     },
     "execution_count": 9,
     "metadata": {},
     "output_type": "execute_result"
    }
   ],
   "source": [
    "# Exploratory Data Analysis\n",
    "df1[\"Location\"].value_counts().head(10)"
   ]
  },
  {
   "cell_type": "code",
   "execution_count": 10,
   "id": "8a30d5d7",
   "metadata": {
    "execution": {
     "iopub.execute_input": "2022-08-27T17:10:56.417386Z",
     "iopub.status.busy": "2022-08-27T17:10:56.416641Z",
     "iopub.status.idle": "2022-08-27T17:10:56.437031Z",
     "shell.execute_reply": "2022-08-27T17:10:56.436031Z"
    },
    "papermill": {
     "duration": 0.031623,
     "end_time": "2022-08-27T17:10:56.439312",
     "exception": false,
     "start_time": "2022-08-27T17:10:56.407689",
     "status": "completed"
    },
    "tags": []
   },
   "outputs": [
    {
     "data": {
      "text/html": [
       "<div>\n",
       "<style scoped>\n",
       "    .dataframe tbody tr th:only-of-type {\n",
       "        vertical-align: middle;\n",
       "    }\n",
       "\n",
       "    .dataframe tbody tr th {\n",
       "        vertical-align: top;\n",
       "    }\n",
       "\n",
       "    .dataframe thead th {\n",
       "        text-align: right;\n",
       "    }\n",
       "</style>\n",
       "<table border=\"1\" class=\"dataframe\">\n",
       "  <thead>\n",
       "    <tr style=\"text-align: right;\">\n",
       "      <th></th>\n",
       "      <th>Area_m2</th>\n",
       "      <th>Price_usd</th>\n",
       "    </tr>\n",
       "  </thead>\n",
       "  <tbody>\n",
       "    <tr>\n",
       "      <th>count</th>\n",
       "      <td>2233.000000</td>\n",
       "      <td>2.233000e+03</td>\n",
       "    </tr>\n",
       "    <tr>\n",
       "      <th>mean</th>\n",
       "      <td>110.490967</td>\n",
       "      <td>1.037667e+05</td>\n",
       "    </tr>\n",
       "    <tr>\n",
       "      <th>std</th>\n",
       "      <td>55.440135</td>\n",
       "      <td>1.292166e+05</td>\n",
       "    </tr>\n",
       "    <tr>\n",
       "      <th>min</th>\n",
       "      <td>35.220000</td>\n",
       "      <td>2.500000e+04</td>\n",
       "    </tr>\n",
       "    <tr>\n",
       "      <th>25%</th>\n",
       "      <td>80.110000</td>\n",
       "      <td>5.000000e+04</td>\n",
       "    </tr>\n",
       "    <tr>\n",
       "      <th>50%</th>\n",
       "      <td>96.470000</td>\n",
       "      <td>7.125000e+04</td>\n",
       "    </tr>\n",
       "    <tr>\n",
       "      <th>75%</th>\n",
       "      <td>127.230000</td>\n",
       "      <td>1.031250e+05</td>\n",
       "    </tr>\n",
       "    <tr>\n",
       "      <th>max</th>\n",
       "      <td>672.860000</td>\n",
       "      <td>2.375000e+06</td>\n",
       "    </tr>\n",
       "  </tbody>\n",
       "</table>\n",
       "</div>"
      ],
      "text/plain": [
       "           Area_m2     Price_usd\n",
       "count  2233.000000  2.233000e+03\n",
       "mean    110.490967  1.037667e+05\n",
       "std      55.440135  1.292166e+05\n",
       "min      35.220000  2.500000e+04\n",
       "25%      80.110000  5.000000e+04\n",
       "50%      96.470000  7.125000e+04\n",
       "75%     127.230000  1.031250e+05\n",
       "max     672.860000  2.375000e+06"
      ]
     },
     "execution_count": 10,
     "metadata": {},
     "output_type": "execute_result"
    }
   ],
   "source": [
    "# View the Area_m2 and Price_usd statistics using describe meth# View the first five record\n",
    "df1[[\"Area_m2\", \"Price_usd\"]].describe()"
   ]
  },
  {
   "cell_type": "markdown",
   "id": "194f9a41",
   "metadata": {
    "papermill": {
     "duration": 0.007286,
     "end_time": "2022-08-27T17:10:56.454269",
     "exception": false,
     "start_time": "2022-08-27T17:10:56.446983",
     "status": "completed"
    },
    "tags": []
   },
   "source": [
    "Data Visualization"
   ]
  },
  {
   "cell_type": "code",
   "execution_count": 11,
   "id": "b3042f72",
   "metadata": {
    "execution": {
     "iopub.execute_input": "2022-08-27T17:10:56.472330Z",
     "iopub.status.busy": "2022-08-27T17:10:56.471553Z",
     "iopub.status.idle": "2022-08-27T17:10:56.685657Z",
     "shell.execute_reply": "2022-08-27T17:10:56.684713Z"
    },
    "papermill": {
     "duration": 0.226261,
     "end_time": "2022-08-27T17:10:56.688036",
     "exception": false,
     "start_time": "2022-08-27T17:10:56.461775",
     "status": "completed"
    },
    "tags": []
   },
   "outputs": [
    {
     "data": {
      "image/png": "[encoded data removed]",
      "text/plain": [
       "<Figure size 432x288 with 1 Axes>"
      ]
     },
     "metadata": {
      "needs_background": "light"
     },
     "output_type": "display_data"
    }
   ],
   "source": [
    "# Lets create a histogram of Area\n",
    "plt.hist(df1[\"Area_m2\"])\n",
    "plt.xlabel(\"Area [sq meters]\")\n",
    "plt.ylabel(\"Frequency\")\n",
    "plt.title(\"Distribution of Home Sizes\");"
   ]
  },
  {
   "cell_type": "code",
   "execution_count": 12,
   "id": "6829f92c",
   "metadata": {
    "execution": {
     "iopub.execute_input": "2022-08-27T17:10:56.706144Z",
     "iopub.status.busy": "2022-08-27T17:10:56.705435Z",
     "iopub.status.idle": "2022-08-27T17:10:56.833734Z",
     "shell.execute_reply": "2022-08-27T17:10:56.832905Z"
    },
    "papermill": {
     "duration": 0.139912,
     "end_time": "2022-08-27T17:10:56.836058",
     "exception": false,
     "start_time": "2022-08-27T17:10:56.696146",
     "status": "completed"
    },
    "tags": []
   },
   "outputs": [
    {
     "data": {
      "image/png": "[encoded data removed]",
      "text/plain": [
       "<Figure size 432x288 with 1 Axes>"
      ]
     },
     "metadata": {
      "needs_background": "light"
     },
     "output_type": "display_data"
    }
   ],
   "source": [
    "plt.boxplot(df1[\"Area_m2\"], vert=False)\n",
    "plt.xlabel(\"Area[sq meters]\")\n",
    "plt.title(\"Distribution of Home Sizes\");"
   ]
  },
  {
   "cell_type": "code",
   "execution_count": 13,
   "id": "36bc136b",
   "metadata": {
    "execution": {
     "iopub.execute_input": "2022-08-27T17:10:56.855109Z",
     "iopub.status.busy": "2022-08-27T17:10:56.854406Z",
     "iopub.status.idle": "2022-08-27T17:10:57.030899Z",
     "shell.execute_reply": "2022-08-27T17:10:57.030119Z"
    },
    "papermill": {
     "duration": 0.188792,
     "end_time": "2022-08-27T17:10:57.033255",
     "exception": false,
     "start_time": "2022-08-27T17:10:56.844463",
     "status": "completed"
    },
    "tags": []
   },
   "outputs": [
    {
     "data": {
      "image/png": "[encoded data removed]",
      "text/plain": [
       "<Figure size 432x288 with 1 Axes>"
      ]
     },
     "metadata": {
      "needs_background": "light"
     },
     "output_type": "display_data"
    }
   ],
   "source": [
    "# Lets create a histogram of Price\n",
    "plt.hist(df1[\"Price_usd\"])\n",
    "plt.xlabel(\"Price [USD]\")\n",
    "plt.ylabel(\"Frequency\")\n",
    "plt.title(\"Distribution of Home Prices\");"
   ]
  },
  {
   "cell_type": "code",
   "execution_count": 14,
   "id": "d1e8173f",
   "metadata": {
    "execution": {
     "iopub.execute_input": "2022-08-27T17:10:57.052113Z",
     "iopub.status.busy": "2022-08-27T17:10:57.051711Z",
     "iopub.status.idle": "2022-08-27T17:10:57.171531Z",
     "shell.execute_reply": "2022-08-27T17:10:57.170415Z"
    },
    "papermill": {
     "duration": 0.132227,
     "end_time": "2022-08-27T17:10:57.173990",
     "exception": false,
     "start_time": "2022-08-27T17:10:57.041763",
     "status": "completed"
    },
    "tags": []
   },
   "outputs": [
    {
     "data": {
      "image/png": "[encoded data removed]",
      "text/plain": [
       "<Figure size 432x288 with 1 Axes>"
      ]
     },
     "metadata": {
      "needs_background": "light"
     },
     "output_type": "display_data"
    }
   ],
   "source": [
    "plt.boxplot(df1[\"Price_usd\"], vert=False)\n",
    "plt.xlabel(\"Price[USD]\")\n",
    "plt.title(\"Distribution of Home Prices\");"
   ]
  },
  {
   "cell_type": "code",
   "execution_count": 15,
   "id": "71ff0710",
   "metadata": {
    "execution": {
     "iopub.execute_input": "2022-08-27T17:10:57.194161Z",
     "iopub.status.busy": "2022-08-27T17:10:57.193693Z",
     "iopub.status.idle": "2022-08-27T17:10:57.207421Z",
     "shell.execute_reply": "2022-08-27T17:10:57.206473Z"
    },
    "papermill": {
     "duration": 0.026205,
     "end_time": "2022-08-27T17:10:57.209723",
     "exception": false,
     "start_time": "2022-08-27T17:10:57.183518",
     "status": "completed"
    },
    "tags": []
   },
   "outputs": [
    {
     "data": {
      "text/plain": [
       "Location\n",
       "Teynampet               825000.00\n",
       "Nungambakkam            755546.87\n",
       "Raja Annamalai Puram    720576.92\n",
       "Alwarpet                618625.00\n",
       "Royapettah              579000.00\n",
       "Purasaiwakkam           487500.00\n",
       "Chetpet                 425416.67\n",
       "Kilpauk                 385625.00\n",
       "Kotturpuram             362500.00\n",
       "Thiruvidandhai          353437.50\n",
       "Name: Price_usd, dtype: float64"
      ]
     },
     "execution_count": 15,
     "metadata": {},
     "output_type": "execute_result"
    }
   ],
   "source": [
    "# Use the groupby method to create a series named mean price by location\n",
    "mean_price_by_location = df1.groupby(\"Location\")[\"Price_usd\"].mean().round(2).sort_values(ascending=False).head(10)\n",
    "mean_price_by_location"
   ]
  },
  {
   "cell_type": "code",
   "execution_count": 16,
   "id": "97fd1c3b",
   "metadata": {
    "execution": {
     "iopub.execute_input": "2022-08-27T17:10:57.230126Z",
     "iopub.status.busy": "2022-08-27T17:10:57.229106Z",
     "iopub.status.idle": "2022-08-27T17:10:57.436569Z",
     "shell.execute_reply": "2022-08-27T17:10:57.435467Z"
    },
    "papermill": {
     "duration": 0.220285,
     "end_time": "2022-08-27T17:10:57.439189",
     "exception": false,
     "start_time": "2022-08-27T17:10:57.218904",
     "status": "completed"
    },
    "tags": []
   },
   "outputs": [
    {
     "data": {
      "image/png": "[encoded data removed]",
      "text/plain": [
       "<Figure size 432x288 with 1 Axes>"
      ]
     },
     "metadata": {
      "needs_background": "light"
     },
     "output_type": "display_data"
    }
   ],
   "source": [
    "# use mean price by location to create a bar chart \n",
    "mean_price_by_location.plot(\n",
    "    kind=\"bar\",\n",
    "    xlabel=\"Location\",\n",
    "    ylabel=\"Mean Price [USD]\",\n",
    "    title=\"Mean Home Price By Locations\"\n",
    ");"
   ]
  },
  {
   "cell_type": "code",
   "execution_count": 17,
   "id": "65049d84",
   "metadata": {
    "execution": {
     "iopub.execute_input": "2022-08-27T17:10:57.460031Z",
     "iopub.status.busy": "2022-08-27T17:10:57.459637Z",
     "iopub.status.idle": "2022-08-27T17:10:57.493129Z",
     "shell.execute_reply": "2022-08-27T17:10:57.492139Z"
    },
    "papermill": {
     "duration": 0.046862,
     "end_time": "2022-08-27T17:10:57.495473",
     "exception": false,
     "start_time": "2022-08-27T17:10:57.448611",
     "status": "completed"
    },
    "tags": []
   },
   "outputs": [
    {
     "data": {
      "text/html": [
       "<div>\n",
       "<style scoped>\n",
       "    .dataframe tbody tr th:only-of-type {\n",
       "        vertical-align: middle;\n",
       "    }\n",
       "\n",
       "    .dataframe tbody tr th {\n",
       "        vertical-align: top;\n",
       "    }\n",
       "\n",
       "    .dataframe thead th {\n",
       "        text-align: right;\n",
       "    }\n",
       "</style>\n",
       "<table border=\"1\" class=\"dataframe\">\n",
       "  <thead>\n",
       "    <tr style=\"text-align: right;\">\n",
       "      <th></th>\n",
       "      <th>Location</th>\n",
       "      <th>No. of Bedrooms</th>\n",
       "      <th>Resale</th>\n",
       "      <th>MaintenanceStaff</th>\n",
       "      <th>Gymnasium</th>\n",
       "      <th>SwimmingPool</th>\n",
       "      <th>LandscapedGardens</th>\n",
       "      <th>JoggingTrack</th>\n",
       "      <th>RainWaterHarvesting</th>\n",
       "      <th>IndoorGames</th>\n",
       "      <th>...</th>\n",
       "      <th>Microwave</th>\n",
       "      <th>GolfCourse</th>\n",
       "      <th>TV</th>\n",
       "      <th>DiningTable</th>\n",
       "      <th>Sofa</th>\n",
       "      <th>Wardrobe</th>\n",
       "      <th>Refrigerator</th>\n",
       "      <th>Price_usd</th>\n",
       "      <th>Area_m2</th>\n",
       "      <th>Price_per_m2</th>\n",
       "    </tr>\n",
       "  </thead>\n",
       "  <tbody>\n",
       "    <tr>\n",
       "      <th>0</th>\n",
       "      <td>Perungalathur</td>\n",
       "      <td>3</td>\n",
       "      <td>0</td>\n",
       "      <td>0.0</td>\n",
       "      <td>0.0</td>\n",
       "      <td>0.0</td>\n",
       "      <td>0.0</td>\n",
       "      <td>0.0</td>\n",
       "      <td>0.0</td>\n",
       "      <td>0.0</td>\n",
       "      <td>...</td>\n",
       "      <td>0.0</td>\n",
       "      <td>0.0</td>\n",
       "      <td>0.0</td>\n",
       "      <td>0.0</td>\n",
       "      <td>0.0</td>\n",
       "      <td>0.0</td>\n",
       "      <td>0.0</td>\n",
       "      <td>68750.0</td>\n",
       "      <td>121.75</td>\n",
       "      <td>564.681725</td>\n",
       "    </tr>\n",
       "    <tr>\n",
       "      <th>1</th>\n",
       "      <td>Madhavaram</td>\n",
       "      <td>2</td>\n",
       "      <td>0</td>\n",
       "      <td>0.0</td>\n",
       "      <td>1.0</td>\n",
       "      <td>1.0</td>\n",
       "      <td>1.0</td>\n",
       "      <td>0.0</td>\n",
       "      <td>1.0</td>\n",
       "      <td>1.0</td>\n",
       "      <td>...</td>\n",
       "      <td>0.0</td>\n",
       "      <td>0.0</td>\n",
       "      <td>0.0</td>\n",
       "      <td>0.0</td>\n",
       "      <td>0.0</td>\n",
       "      <td>0.0</td>\n",
       "      <td>0.0</td>\n",
       "      <td>66875.0</td>\n",
       "      <td>104.65</td>\n",
       "      <td>639.034878</td>\n",
       "    </tr>\n",
       "    <tr>\n",
       "      <th>2</th>\n",
       "      <td>Karapakkam</td>\n",
       "      <td>3</td>\n",
       "      <td>0</td>\n",
       "      <td>0.0</td>\n",
       "      <td>1.0</td>\n",
       "      <td>1.0</td>\n",
       "      <td>1.0</td>\n",
       "      <td>1.0</td>\n",
       "      <td>1.0</td>\n",
       "      <td>1.0</td>\n",
       "      <td>...</td>\n",
       "      <td>0.0</td>\n",
       "      <td>0.0</td>\n",
       "      <td>0.0</td>\n",
       "      <td>0.0</td>\n",
       "      <td>0.0</td>\n",
       "      <td>0.0</td>\n",
       "      <td>0.0</td>\n",
       "      <td>102562.5</td>\n",
       "      <td>121.47</td>\n",
       "      <td>844.344283</td>\n",
       "    </tr>\n",
       "    <tr>\n",
       "      <th>3</th>\n",
       "      <td>Thiruvidandhai</td>\n",
       "      <td>3</td>\n",
       "      <td>0</td>\n",
       "      <td>0.0</td>\n",
       "      <td>1.0</td>\n",
       "      <td>1.0</td>\n",
       "      <td>0.0</td>\n",
       "      <td>1.0</td>\n",
       "      <td>0.0</td>\n",
       "      <td>0.0</td>\n",
       "      <td>...</td>\n",
       "      <td>0.0</td>\n",
       "      <td>0.0</td>\n",
       "      <td>0.0</td>\n",
       "      <td>0.0</td>\n",
       "      <td>0.0</td>\n",
       "      <td>0.0</td>\n",
       "      <td>0.0</td>\n",
       "      <td>292500.0</td>\n",
       "      <td>334.57</td>\n",
       "      <td>874.256508</td>\n",
       "    </tr>\n",
       "    <tr>\n",
       "      <th>4</th>\n",
       "      <td>Iyappanthangal</td>\n",
       "      <td>3</td>\n",
       "      <td>0</td>\n",
       "      <td>0.0</td>\n",
       "      <td>1.0</td>\n",
       "      <td>1.0</td>\n",
       "      <td>1.0</td>\n",
       "      <td>1.0</td>\n",
       "      <td>0.0</td>\n",
       "      <td>0.0</td>\n",
       "      <td>...</td>\n",
       "      <td>0.0</td>\n",
       "      <td>0.0</td>\n",
       "      <td>0.0</td>\n",
       "      <td>0.0</td>\n",
       "      <td>0.0</td>\n",
       "      <td>0.0</td>\n",
       "      <td>0.0</td>\n",
       "      <td>126250.0</td>\n",
       "      <td>157.99</td>\n",
       "      <td>799.101209</td>\n",
       "    </tr>\n",
       "  </tbody>\n",
       "</table>\n",
       "<p>5 rows × 41 columns</p>\n",
       "</div>"
      ],
      "text/plain": [
       "         Location  No. of Bedrooms  Resale  MaintenanceStaff  Gymnasium  \\\n",
       "0   Perungalathur                3       0               0.0        0.0   \n",
       "1      Madhavaram                2       0               0.0        1.0   \n",
       "2      Karapakkam                3       0               0.0        1.0   \n",
       "3  Thiruvidandhai                3       0               0.0        1.0   \n",
       "4  Iyappanthangal                3       0               0.0        1.0   \n",
       "\n",
       "   SwimmingPool  LandscapedGardens  JoggingTrack  RainWaterHarvesting  \\\n",
       "0           0.0                0.0           0.0                  0.0   \n",
       "1           1.0                1.0           0.0                  1.0   \n",
       "2           1.0                1.0           1.0                  1.0   \n",
       "3           1.0                0.0           1.0                  0.0   \n",
       "4           1.0                1.0           1.0                  0.0   \n",
       "\n",
       "   IndoorGames  ...  Microwave  GolfCourse   TV  DiningTable  Sofa  Wardrobe  \\\n",
       "0          0.0  ...        0.0         0.0  0.0          0.0   0.0       0.0   \n",
       "1          1.0  ...        0.0         0.0  0.0          0.0   0.0       0.0   \n",
       "2          1.0  ...        0.0         0.0  0.0          0.0   0.0       0.0   \n",
       "3          0.0  ...        0.0         0.0  0.0          0.0   0.0       0.0   \n",
       "4          0.0  ...        0.0         0.0  0.0          0.0   0.0       0.0   \n",
       "\n",
       "   Refrigerator  Price_usd  Area_m2  Price_per_m2  \n",
       "0           0.0    68750.0   121.75    564.681725  \n",
       "1           0.0    66875.0   104.65    639.034878  \n",
       "2           0.0   102562.5   121.47    844.344283  \n",
       "3           0.0   292500.0   334.57    874.256508  \n",
       "4           0.0   126250.0   157.99    799.101209  \n",
       "\n",
       "[5 rows x 41 columns]"
      ]
     },
     "execution_count": 17,
     "metadata": {},
     "output_type": "execute_result"
    }
   ],
   "source": [
    "df1[\"Price_per_m2\"] = df1[\"Price_usd\"] / df1[\"Area_m2\"]\n",
    "df1.head()"
   ]
  },
  {
   "cell_type": "code",
   "execution_count": 18,
   "id": "4fdfa1dc",
   "metadata": {
    "execution": {
     "iopub.execute_input": "2022-08-27T17:10:57.516986Z",
     "iopub.status.busy": "2022-08-27T17:10:57.515919Z",
     "iopub.status.idle": "2022-08-27T17:10:57.787607Z",
     "shell.execute_reply": "2022-08-27T17:10:57.786294Z"
    },
    "papermill": {
     "duration": 0.285203,
     "end_time": "2022-08-27T17:10:57.790419",
     "exception": false,
     "start_time": "2022-08-27T17:10:57.505216",
     "status": "completed"
    },
    "tags": []
   },
   "outputs": [
    {
     "data": {
      "image/png": "[encoded data removed]",
      "text/plain": [
       "<Figure size 432x288 with 1 Axes>"
      ]
     },
     "metadata": {
      "needs_background": "light"
     },
     "output_type": "display_data"
    }
   ],
   "source": [
    "(\n",
    "    df1\n",
    "    .groupby(\"Location\")\n",
    "    [\"Price_per_m2\"].mean().round(2)\n",
    "    .sort_values(ascending=False).head(10)\n",
    "    .plot(\n",
    "        kind=\"bar\",\n",
    "        xlabel=\"Location\",\n",
    "        ylabel=\"Mean Price per m2 [USD]\",\n",
    "        title=\"Mean House Price Per m2 by Location\"\n",
    "    )\n",
    ");"
   ]
  },
  {
   "cell_type": "code",
   "execution_count": 19,
   "id": "83f4600a",
   "metadata": {
    "execution": {
     "iopub.execute_input": "2022-08-27T17:10:57.812448Z",
     "iopub.status.busy": "2022-08-27T17:10:57.812007Z",
     "iopub.status.idle": "2022-08-27T17:10:58.001660Z",
     "shell.execute_reply": "2022-08-27T17:10:58.000384Z"
    },
    "papermill": {
     "duration": 0.203749,
     "end_time": "2022-08-27T17:10:58.004369",
     "exception": false,
     "start_time": "2022-08-27T17:10:57.800620",
     "status": "completed"
    },
    "tags": []
   },
   "outputs": [
    {
     "data": {
      "image/png": "[encoded data removed]",
      "text/plain": [
       "<Figure size 432x288 with 1 Axes>"
      ]
     },
     "metadata": {
      "needs_background": "light"
     },
     "output_type": "display_data"
    }
   ],
   "source": [
    "plt.scatter(x=df1[\"Area_m2\"], y=df1[\"Price_usd\"])\n",
    "plt.xlabel(\"Area [sq meters]\")\n",
    "plt.ylabel(\"Price [USD]\")\n",
    "plt.title(\"Price VS Area\");"
   ]
  },
  {
   "cell_type": "code",
   "execution_count": 20,
   "id": "def7e761",
   "metadata": {
    "execution": {
     "iopub.execute_input": "2022-08-27T17:10:58.027688Z",
     "iopub.status.busy": "2022-08-27T17:10:58.027258Z",
     "iopub.status.idle": "2022-08-27T17:10:58.036769Z",
     "shell.execute_reply": "2022-08-27T17:10:58.035354Z"
    },
    "papermill": {
     "duration": 0.023928,
     "end_time": "2022-08-27T17:10:58.039106",
     "exception": false,
     "start_time": "2022-08-27T17:10:58.015178",
     "status": "completed"
    },
    "tags": []
   },
   "outputs": [
    {
     "name": "stdout",
     "output_type": "stream",
     "text": [
      "0.7707860633961785\n"
     ]
    }
   ],
   "source": [
    "p_correlation = df1[\"Area_m2\"].corr(df1[\"Price_usd\"])\n",
    "print(p_correlation)"
   ]
  },
  {
   "cell_type": "code",
   "execution_count": 21,
   "id": "a6fc37f1",
   "metadata": {
    "execution": {
     "iopub.execute_input": "2022-08-27T17:10:58.061590Z",
     "iopub.status.busy": "2022-08-27T17:10:58.061164Z",
     "iopub.status.idle": "2022-08-27T17:10:58.070089Z",
     "shell.execute_reply": "2022-08-27T17:10:58.069291Z"
    },
    "papermill": {
     "duration": 0.022539,
     "end_time": "2022-08-27T17:10:58.072178",
     "exception": false,
     "start_time": "2022-08-27T17:10:58.049639",
     "status": "completed"
    },
    "tags": []
   },
   "outputs": [
    {
     "data": {
      "text/plain": [
       "(10, 41)"
      ]
     },
     "execution_count": 21,
     "metadata": {},
     "output_type": "execute_result"
    }
   ],
   "source": [
    "# Lets subset to Alwarpet\n",
    "df1_alwarpet = df1[df1[\"Location\"] == \"Alwarpet\"]\n",
    "df1_alwarpet.shape"
   ]
  },
  {
   "cell_type": "code",
   "execution_count": 22,
   "id": "852abce6",
   "metadata": {
    "execution": {
     "iopub.execute_input": "2022-08-27T17:10:58.095231Z",
     "iopub.status.busy": "2022-08-27T17:10:58.094783Z",
     "iopub.status.idle": "2022-08-27T17:10:58.270772Z",
     "shell.execute_reply": "2022-08-27T17:10:58.269914Z"
    },
    "papermill": {
     "duration": 0.19021,
     "end_time": "2022-08-27T17:10:58.273026",
     "exception": false,
     "start_time": "2022-08-27T17:10:58.082816",
     "status": "completed"
    },
    "tags": []
   },
   "outputs": [
    {
     "data": {
      "image/png": "[encoded data removed]",
      "text/plain": [
       "<Figure size 432x288 with 1 Axes>"
      ]
     },
     "metadata": {
      "needs_background": "light"
     },
     "output_type": "display_data"
    }
   ],
   "source": [
    "plt.scatter(x=df1_alwarpet[\"Area_m2\"], y=df1_alwarpet[\"Price_usd\"])\n",
    "plt.xlabel(\"Area [sq meters]\")\n",
    "plt.ylabel(\"Price [USD]\")\n",
    "plt.title(\"Alwarpet: Price VS Area\");"
   ]
  },
  {
   "cell_type": "code",
   "execution_count": 23,
   "id": "ba0d0ef4",
   "metadata": {
    "execution": {
     "iopub.execute_input": "2022-08-27T17:10:58.297533Z",
     "iopub.status.busy": "2022-08-27T17:10:58.296818Z",
     "iopub.status.idle": "2022-08-27T17:10:58.303524Z",
     "shell.execute_reply": "2022-08-27T17:10:58.302778Z"
    },
    "papermill": {
     "duration": 0.021207,
     "end_time": "2022-08-27T17:10:58.305615",
     "exception": false,
     "start_time": "2022-08-27T17:10:58.284408",
     "status": "completed"
    },
    "tags": []
   },
   "outputs": [
    {
     "data": {
      "text/plain": [
       "0.8922017027445386"
      ]
     },
     "execution_count": 23,
     "metadata": {},
     "output_type": "execute_result"
    }
   ],
   "source": [
    "p_correlation = df1_alwarpet[\"Area_m2\"].corr(df1_alwarpet[\"Price_usd\"])\n",
    "p_correlation"
   ]
  },
  {
   "cell_type": "markdown",
   "id": "55de182f",
   "metadata": {
    "papermill": {
     "duration": 0.010443,
     "end_time": "2022-08-27T17:10:58.326969",
     "exception": false,
     "start_time": "2022-08-27T17:10:58.316526",
     "status": "completed"
    },
    "tags": []
   },
   "source": [
    "Looking at the scatter plots and correlation coefficients, there seem to be a very strong relationship between size and price. The interpretation is that there is a relationship between size and price in Chennai. Though other factors may still influence price."
   ]
  },
  {
   "cell_type": "code",
   "execution_count": null,
   "id": "2a5b066a",
   "metadata": {
    "papermill": {
     "duration": 0.010642,
     "end_time": "2022-08-27T17:10:58.348377",
     "exception": false,
     "start_time": "2022-08-27T17:10:58.337735",
     "status": "completed"
    },
    "tags": []
   },
   "outputs": [],
   "source": []
  }
 ],
 "metadata": {
  "kernelspec": {
   "display_name": "Python 3",
   "language": "python",
   "name": "python3"
  },
  "language_info": {
   "codemirror_mode": {
    "name": "ipython",
    "version": 3
   },
   "file_extension": ".py",
   "mimetype": "text/x-python",
   "name": "python",
   "nbconvert_exporter": "python",
   "pygments_lexer": "ipython3",
   "version": "3.7.12"
  },
  "papermill": {
   "default_parameters": {},
   "duration": 13.289737,
   "end_time": "2022-08-27T17:10:59.080700",
   "environment_variables": {},
   "exception": null,
   "input_path": "__notebook__.ipynb",
   "output_path": "__notebook__.ipynb",
   "parameters": {},
   "start_time": "2022-08-27T17:10:45.790963",
   "version": "2.3.4"
  }
 },
 "nbformat": 4,
 "nbformat_minor": 5
}
